{
  "nbformat": 4,
  "nbformat_minor": 0,
  "metadata": {
    "colab": {
      "name": "파이썬제어문.ipynb",
      "provenance": [],
      "authorship_tag": "ABX9TyPzWmpTm7xf5MLS4m+ds2eI",
      "include_colab_link": true
    },
    "kernelspec": {
      "name": "python3",
      "display_name": "Python 3"
    }
  },
  "cells": [
    {
      "cell_type": "markdown",
      "metadata": {
        "id": "view-in-github",
        "colab_type": "text"
      },
      "source": [
        "<a href=\"https://colab.research.google.com/github/cqq03/movie_project1/blob/main/%ED%8C%8C%EC%9D%B4%EC%8D%AC%EC%A0%9C%EC%96%B4%EB%AC%B8.ipynb\" target=\"_parent\"><img src=\"https://colab.research.google.com/assets/colab-badge.svg\" alt=\"Open In Colab\"/></a>"
      ]
    },
    {
      "cell_type": "code",
      "metadata": {
        "colab": {
          "base_uri": "https://localhost:8080/"
        },
        "id": "O57-iR2GXOMk",
        "outputId": "a22be4fb-286e-4dcf-8fc4-455f6306f8fc"
      },
      "source": [
        "food = input('먹고 싶은 음식을 입력하세요.>> ')\r\n",
        "print('당신이 입력한 먹고 싶은 음식은 ', food)"
      ],
      "execution_count": null,
      "outputs": [
        {
          "output_type": "stream",
          "text": [
            "먹고 싶은 음식을 입력하세요.>> 회\n",
            "당신이 입력한 먹고 싶은 음식은  회\n"
          ],
          "name": "stdout"
        }
      ]
    },
    {
      "cell_type": "code",
      "metadata": {
        "id": "CnLmqnXUdgf2"
      },
      "source": [
        ""
      ],
      "execution_count": null,
      "outputs": []
    },
    {
      "cell_type": "code",
      "metadata": {
        "id": "lMKGuQf-djWN"
      },
      "source": [
        ""
      ],
      "execution_count": null,
      "outputs": []
    },
    {
      "cell_type": "code",
      "metadata": {
        "colab": {
          "base_uri": "https://localhost:8080/"
        },
        "id": "5oFQOgXUcYBw",
        "outputId": "0f2d060c-c9f2-4b30-990a-d64bb3822dd1"
      },
      "source": [
        "if food == '우동':\r\n",
        "  print('우산을 들고간다.')\r\n",
        "  print('돈 들고 간다.')\r\n",
        "  print('우동집으로 간다.')\r\n",
        "elif food == '짜장면':   #if 뒤에는 반드시 조건을 쓴다.\r\n",
        "  print('중국집으로 간다.')\r\n",
        "elif food == '라면':\r\n",
        "  print('분식점으로 간다.')\r\n",
        "else: #else뒤에는 조건을 쓰지 않는다.\r\n",
        "  print('집에서 먹는다.')"
      ],
      "execution_count": null,
      "outputs": [
        {
          "output_type": "stream",
          "text": [
            "집에서 먹는다.\n"
          ],
          "name": "stdout"
        }
      ]
    },
    {
      "cell_type": "code",
      "metadata": {
        "colab": {
          "base_uri": "https://localhost:8080/"
        },
        "id": "8IICMFUmdcW-",
        "outputId": "dcb38e54-cb8c-4ebe-d050-4c4ddf51d0ac"
      },
      "source": [
        "start = 0\r\n",
        "while start < 10: #True\r\n",
        "  print(start, '> 내가 반복')\r\n",
        "  start = start + 1"
      ],
      "execution_count": null,
      "outputs": [
        {
          "output_type": "stream",
          "text": [
            "0 > 내가 반복\n",
            "1 > 내가 반복\n",
            "2 > 내가 반복\n",
            "3 > 내가 반복\n",
            "4 > 내가 반복\n",
            "5 > 내가 반복\n",
            "6 > 내가 반복\n",
            "7 > 내가 반복\n",
            "8 > 내가 반복\n",
            "9 > 내가 반복\n"
          ],
          "name": "stdout"
        }
      ]
    },
    {
      "cell_type": "code",
      "metadata": {
        "colab": {
          "base_uri": "https://localhost:8080/"
        },
        "id": "XqqEW8z9fl0h",
        "outputId": "e56eb700-7a16-4dc7-fc0a-dcabe696739b"
      },
      "source": [
        "for x in range(10): #0~9, 기본값이 1식 증가!\r\n",
        "  print(x, '>나도 반복')"
      ],
      "execution_count": null,
      "outputs": [
        {
          "output_type": "stream",
          "text": [
            "0 >나도 반복\n",
            "1 >나도 반복\n",
            "2 >나도 반복\n",
            "3 >나도 반복\n",
            "4 >나도 반복\n",
            "5 >나도 반복\n",
            "6 >나도 반복\n",
            "7 >나도 반복\n",
            "8 >나도 반복\n",
            "9 >나도 반복\n"
          ],
          "name": "stdout"
        }
      ]
    },
    {
      "cell_type": "code",
      "metadata": {
        "id": "SAot08EJo377"
      },
      "source": [
        ""
      ],
      "execution_count": null,
      "outputs": []
    },
    {
      "cell_type": "code",
      "metadata": {
        "colab": {
          "base_uri": "https://localhost:8080/"
        },
        "id": "snzlX1AIkh7g",
        "outputId": "cdb386ae-fc2b-4d85-f93c-19b08bd7c9ff"
      },
      "source": [
        "time = input('현재 시각을 입력하세요.')\r\n",
        "print('현재 시각은 ', time)"
      ],
      "execution_count": null,
      "outputs": [
        {
          "output_type": "stream",
          "text": [
            "현재 시각을 입력하세요.11\n",
            "현재 시각은  11\n"
          ],
          "name": "stdout"
        }
      ]
    },
    {
      "cell_type": "code",
      "metadata": {
        "colab": {
          "base_uri": "https://localhost:8080/"
        },
        "id": "T0CBLSvqkecG",
        "outputId": "3684e3ea-7fa5-4c19-8471-e992ace92f66"
      },
      "source": [
        "if int(time) < 11:\r\n",
        "  print('굿모닝')\r\n",
        "elif 11<= int(time) < 15:\r\n",
        "  print('굿애프터눈')\r\n",
        "elif 15<= int(time) < 20:\r\n",
        "  print('굿이브닝')\r\n",
        "else:\r\n",
        "  print('굿나잇')"
      ],
      "execution_count": 30,
      "outputs": [
        {
          "output_type": "stream",
          "text": [
            "굿애프터눈\n"
          ],
          "name": "stdout"
        }
      ]
    },
    {
      "cell_type": "code",
      "metadata": {
        "id": "ahnz0CZkpLam"
      },
      "source": [
        ""
      ],
      "execution_count": null,
      "outputs": []
    },
    {
      "cell_type": "code",
      "metadata": {
        "id": "ePP9x-O_pJtj"
      },
      "source": [
        ""
      ],
      "execution_count": null,
      "outputs": []
    },
    {
      "cell_type": "code",
      "metadata": {
        "colab": {
          "base_uri": "https://localhost:8080/"
        },
        "id": "Q37LJyi-n73D",
        "outputId": "7cd2c985-c285-4929-acad-179b38920e08"
      },
      "source": [
        "month = input('이번 달은')\r\n",
        "print('이번달은', month)"
      ],
      "execution_count": 28,
      "outputs": [
        {
          "output_type": "stream",
          "text": [
            "이번 달은1\n",
            "이번달은 1\n"
          ],
          "name": "stdout"
        }
      ]
    },
    {
      "cell_type": "code",
      "metadata": {
        "colab": {
          "base_uri": "https://localhost:8080/"
        },
        "id": "rbvXfG9AoZcl",
        "outputId": "0b2a9557-ba35-4146-d698-808af3276f98"
      },
      "source": [
        "if 1<=int(month)<=5:\r\n",
        "  print('봄')\r\n",
        "elif 6<=int(month)<=8:\r\n",
        "  print('여름')\r\n",
        "elif 9<=int(month):\r\n",
        "  print('가을')\r\n",
        "else:\r\n",
        "  print('겨울')"
      ],
      "execution_count": 31,
      "outputs": [
        {
          "output_type": "stream",
          "text": [
            "봄\n"
          ],
          "name": "stdout"
        }
      ]
    },
    {
      "cell_type": "code",
      "metadata": {
        "id": "eIxDUEfEp5e8"
      },
      "source": [
        ""
      ],
      "execution_count": null,
      "outputs": []
    },
    {
      "cell_type": "code",
      "metadata": {
        "id": "6lzZxeI2oWEw"
      },
      "source": [
        ""
      ],
      "execution_count": null,
      "outputs": []
    },
    {
      "cell_type": "code",
      "metadata": {
        "id": "WsewPrIKoTpV"
      },
      "source": [
        ""
      ],
      "execution_count": null,
      "outputs": []
    },
    {
      "cell_type": "code",
      "metadata": {
        "id": "m-8WnpwDoQyr"
      },
      "source": [
        ""
      ],
      "execution_count": null,
      "outputs": []
    },
    {
      "cell_type": "code",
      "metadata": {
        "id": "WSqZTBXXn5kO"
      },
      "source": [
        ""
      ],
      "execution_count": null,
      "outputs": []
    },
    {
      "cell_type": "code",
      "metadata": {
        "id": "rPhkx8EIn2Dv"
      },
      "source": [
        ""
      ],
      "execution_count": null,
      "outputs": []
    },
    {
      "cell_type": "code",
      "metadata": {
        "id": "RCxviGB7nss8"
      },
      "source": [
        ""
      ],
      "execution_count": null,
      "outputs": []
    },
    {
      "cell_type": "code",
      "metadata": {
        "id": "2c5IamirnmqB"
      },
      "source": [
        ""
      ],
      "execution_count": null,
      "outputs": []
    },
    {
      "cell_type": "code",
      "metadata": {
        "id": "kO932DNVnbic"
      },
      "source": [
        ""
      ],
      "execution_count": null,
      "outputs": []
    },
    {
      "cell_type": "code",
      "metadata": {
        "id": "iS5SVYDTnYYF"
      },
      "source": [
        ""
      ],
      "execution_count": null,
      "outputs": []
    },
    {
      "cell_type": "code",
      "metadata": {
        "id": "ejTvp5iPnS_f"
      },
      "source": [
        ""
      ],
      "execution_count": null,
      "outputs": []
    },
    {
      "cell_type": "code",
      "metadata": {
        "id": "H9fGBOBjmHeT"
      },
      "source": [
        "month = input('이번 달은?')\r\n",
        "print(month, 월)"
      ],
      "execution_count": null,
      "outputs": []
    },
    {
      "cell_type": "code",
      "metadata": {
        "id": "PM130G6QluOP"
      },
      "source": [
        ""
      ],
      "execution_count": null,
      "outputs": []
    },
    {
      "cell_type": "code",
      "metadata": {
        "id": "JiQfbTFOlsOH"
      },
      "source": [
        ""
      ],
      "execution_count": null,
      "outputs": []
    },
    {
      "cell_type": "code",
      "metadata": {
        "id": "m-JtKHeDln3i"
      },
      "source": [
        ""
      ],
      "execution_count": null,
      "outputs": []
    },
    {
      "cell_type": "code",
      "metadata": {
        "id": "zrsmuxu7kZoA"
      },
      "source": [
        ""
      ],
      "execution_count": null,
      "outputs": []
    },
    {
      "cell_type": "code",
      "metadata": {
        "id": "kbxrHDTgkQYK"
      },
      "source": [
        ""
      ],
      "execution_count": null,
      "outputs": []
    },
    {
      "cell_type": "code",
      "metadata": {
        "id": "GgAN7qbRjwTC"
      },
      "source": [
        ""
      ],
      "execution_count": null,
      "outputs": []
    },
    {
      "cell_type": "code",
      "metadata": {
        "id": "bRqpWcZufccu"
      },
      "source": [
        ""
      ],
      "execution_count": null,
      "outputs": []
    }
  ]
}